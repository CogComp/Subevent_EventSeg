{
 "cells": [
  {
   "cell_type": "code",
   "execution_count": 31,
   "metadata": {},
   "outputs": [],
   "source": [
    "from collections import defaultdict \n",
    "#Class to represent a graph \n",
    "class Graph: \n",
    "  \n",
    "    def __init__(self, vertices): \n",
    "        self.V = vertices \n",
    "\n",
    "    # Floyd Warshall algorithm \n",
    "    def transitiveClosure(self,graph): \n",
    "        '''reach[][] will be the output matrix that will finally \n",
    "        have reachability values. \n",
    "        Initialize the solution matrix same as input graph matrix'''\n",
    "        reach =[i[:] for i in graph] \n",
    "        '''Add all vertices one by one to the set of intermediate \n",
    "        vertices. \n",
    "         ---> Before start of a iteration, we have reachability value \n",
    "         for all pairs of vertices such that the reachability values \n",
    "          consider only the vertices in set  \n",
    "        {0, 1, 2, .. k-1} as intermediate vertices. \n",
    "          ----> After the end of an iteration, vertex no. k is \n",
    "         added to the set of intermediate vertices and the  \n",
    "        set becomes {0, 1, 2, .. k}'''\n",
    "        for k in range(self.V): \n",
    "              \n",
    "            # Pick all vertices as source one by one \n",
    "            for i in range(self.V): \n",
    "                  \n",
    "                # Pick all vertices as destination for the \n",
    "                # above picked source \n",
    "                for j in range(self.V): \n",
    "                      \n",
    "                    # If vertex k is on a path from i to j,  \n",
    "                       # then make sure that the value of reach[i][j] is 1 \n",
    "                    reach[i][j] = min( reach[i][j] , reach[i][k] + reach[k][j] )\n",
    "        return reach"
   ]
  },
  {
   "cell_type": "code",
   "execution_count": 53,
   "metadata": {},
   "outputs": [
    {
     "name": "stderr",
     "output_type": "stream",
     "text": [
      "  1%|          | 1/100 [00:00<00:11,  8.54it/s]"
     ]
    },
    {
     "name": "stdout",
     "output_type": "stream",
     "text": [
      "100\n",
      "APW_ENG_19961217.1333.src.xml.txt.blk.tok.stp.tbf.xml\n",
      "19\n",
      "27\n",
      "APW_ENG_19961217.1333.src.xml.txt.blk.tok.stp.tbf.xml\n",
      "24\n",
      "22\n",
      "APW_ENG_19970521.1259.src.xml.txt.blk.tok.stp.tbf.xml\n",
      "12\n",
      "45\n",
      "APW_ENG_19970521.1259.src.xml.txt.blk.tok.stp.tbf.xml\n",
      "13\n",
      "45\n",
      "APW_ENG_19970521.1259.src.xml.txt.blk.tok.stp.tbf.xml\n",
      "15\n",
      "45\n",
      "APW_ENG_19970521.1259.src.xml.txt.blk.tok.stp.tbf.xml\n",
      "17\n",
      "45\n",
      "APW_ENG_19970521.1259.src.xml.txt.blk.tok.stp.tbf.xml\n",
      "20\n",
      "19\n",
      "APW_ENG_19970521.1259.src.xml.txt.blk.tok.stp.tbf.xml\n",
      "22\n",
      "19\n",
      "APW_ENG_19970521.1259.src.xml.txt.blk.tok.stp.tbf.xml\n",
      "26\n",
      "25\n",
      "APW_ENG_19970521.1259.src.xml.txt.blk.tok.stp.tbf.xml\n",
      "27\n",
      "25\n",
      "APW_ENG_19970521.1259.src.xml.txt.blk.tok.stp.tbf.xml\n",
      "29\n",
      "28\n",
      "APW_ENG_19970521.1259.src.xml.txt.blk.tok.stp.tbf.xml\n",
      "30\n",
      "28\n",
      "APW_ENG_19970521.1259.src.xml.txt.blk.tok.stp.tbf.xml\n",
      "34\n",
      "33\n",
      "APW_ENG_19970521.1259.src.xml.txt.blk.tok.stp.tbf.xml\n",
      "35\n",
      "33\n",
      "APW_ENG_19970521.1259.src.xml.txt.blk.tok.stp.tbf.xml\n",
      "37\n",
      "33\n"
     ]
    },
    {
     "name": "stderr",
     "output_type": "stream",
     "text": [
      "  5%|▌         | 5/100 [00:00<00:08, 11.45it/s]"
     ]
    },
    {
     "name": "stdout",
     "output_type": "stream",
     "text": [
      "XIN_ENG_19960116.0110.src.xml.txt.blk.tok.stp.tbf.xml\n",
      "16\n",
      "15\n",
      "XIN_ENG_19960116.0110.src.xml.txt.blk.tok.stp.tbf.xml\n",
      "17\n",
      "15\n",
      "AFP_ENG_20030303.0023.src.xml.txt.blk.tok.stp.tbf.xml\n",
      "4\n",
      "2\n",
      "AFP_ENG_20040813.0336.src.xml.txt.blk.tok.stp.tbf.xml\n",
      "7\n",
      "55\n",
      "AFP_ENG_20040813.0336.src.xml.txt.blk.tok.stp.tbf.xml\n",
      "13\n",
      "57\n",
      "AFP_ENG_20040813.0336.src.xml.txt.blk.tok.stp.tbf.xml\n",
      "19\n",
      "57\n",
      "AFP_ENG_20040813.0336.src.xml.txt.blk.tok.stp.tbf.xml\n",
      "20\n",
      "57\n",
      "AFP_ENG_20040813.0336.src.xml.txt.blk.tok.stp.tbf.xml\n",
      "30\n",
      "29\n",
      "AFP_ENG_20040813.0336.src.xml.txt.blk.tok.stp.tbf.xml\n",
      "38\n",
      "57\n",
      "AFP_ENG_20040813.0336.src.xml.txt.blk.tok.stp.tbf.xml\n",
      "47\n",
      "57\n",
      "APW_ENG_19970713.0540.src.xml.txt.blk.tok.stp.tbf.xml\n",
      "11\n",
      "85\n",
      "APW_ENG_19970713.0540.src.xml.txt.blk.tok.stp.tbf.xml\n",
      "15\n",
      "85\n",
      "APW_ENG_19970713.0540.src.xml.txt.blk.tok.stp.tbf.xml\n",
      "34\n",
      "85\n",
      "APW_ENG_19970713.0540.src.xml.txt.blk.tok.stp.tbf.xml\n",
      "97\n",
      "90\n"
     ]
    },
    {
     "name": "stderr",
     "output_type": "stream",
     "text": [
      "  9%|▉         | 9/100 [00:00<00:09,  9.39it/s]"
     ]
    },
    {
     "name": "stdout",
     "output_type": "stream",
     "text": [
      "XIN_ENG_20020806.0041.src.xml.txt.blk.tok.stp.tbf.xml\n",
      "28\n",
      "27\n",
      "XIN_ENG_20020806.0041.src.xml.txt.blk.tok.stp.tbf.xml\n",
      "29\n",
      "27\n",
      "XIN_ENG_20020806.0041.src.xml.txt.blk.tok.stp.tbf.xml\n",
      "30\n",
      "27\n"
     ]
    },
    {
     "name": "stderr",
     "output_type": "stream",
     "text": [
      " 12%|█▏        | 12/100 [00:01<00:11,  7.88it/s]"
     ]
    },
    {
     "name": "stdout",
     "output_type": "stream",
     "text": [
      "LTW_ENG_20050124.0091.src.xml.txt.blk.tok.stp.tbf.xml\n",
      "5\n",
      "59\n",
      "LTW_ENG_20050124.0091.src.xml.txt.blk.tok.stp.tbf.xml\n",
      "6\n",
      "59\n",
      "LTW_ENG_20050124.0091.src.xml.txt.blk.tok.stp.tbf.xml\n",
      "14\n",
      "59\n"
     ]
    },
    {
     "name": "stderr",
     "output_type": "stream",
     "text": [
      "\r",
      " 13%|█▎        | 13/100 [00:01<00:11,  7.68it/s]"
     ]
    },
    {
     "name": "stdout",
     "output_type": "stream",
     "text": [
      "APW_ENG_20020605.0452.src.xml.txt.blk.tok.stp.tbf.xml\n",
      "96\n",
      "94\n"
     ]
    },
    {
     "name": "stderr",
     "output_type": "stream",
     "text": [
      " 16%|█▌        | 16/100 [00:02<00:14,  5.62it/s]"
     ]
    },
    {
     "name": "stdout",
     "output_type": "stream",
     "text": [
      "XIN_ENG_20061121.0149.src.xml.txt.blk.tok.stp.tbf.xml\n",
      "20\n",
      "19\n",
      "XIN_ENG_20061121.0149.src.xml.txt.blk.tok.stp.tbf.xml\n",
      "21\n",
      "19\n",
      "XIN_ENG_20061121.0149.src.xml.txt.blk.tok.stp.tbf.xml\n",
      "22\n",
      "19\n",
      "APW_ENG_20051127.0031.src.xml.txt.blk.tok.stp.tbf.xml\n",
      "5\n",
      "6\n",
      "APW_ENG_20051127.0031.src.xml.txt.blk.tok.stp.tbf.xml\n",
      "7\n",
      "6\n",
      "APW_ENG_20051127.0031.src.xml.txt.blk.tok.stp.tbf.xml\n",
      "8\n",
      "6\n",
      "APW_ENG_20051127.0031.src.xml.txt.blk.tok.stp.tbf.xml\n",
      "24\n",
      "26\n",
      "APW_ENG_20051127.0031.src.xml.txt.blk.tok.stp.tbf.xml\n",
      "25\n",
      "26\n",
      "APW_ENG_20051127.0031.src.xml.txt.blk.tok.stp.tbf.xml\n",
      "27\n",
      "26\n",
      "APW_ENG_20051127.0031.src.xml.txt.blk.tok.stp.tbf.xml\n",
      "29\n",
      "30\n",
      "APW_ENG_20051127.0031.src.xml.txt.blk.tok.stp.tbf.xml\n",
      "31\n",
      "30\n",
      "APW_ENG_20051127.0031.src.xml.txt.blk.tok.stp.tbf.xml\n",
      "35\n",
      "30\n",
      "APW_ENG_20051127.0031.src.xml.txt.blk.tok.stp.tbf.xml\n",
      "36\n",
      "30\n",
      "APW_ENG_20051127.0031.src.xml.txt.blk.tok.stp.tbf.xml\n",
      "39\n",
      "40\n",
      "APW_ENG_20051127.0031.src.xml.txt.blk.tok.stp.tbf.xml\n",
      "41\n",
      "40\n",
      "APW_ENG_20051127.0031.src.xml.txt.blk.tok.stp.tbf.xml\n",
      "56\n",
      "55\n",
      "APW_ENG_20051127.0031.src.xml.txt.blk.tok.stp.tbf.xml\n",
      "57\n",
      "55\n",
      "APW_ENG_20051127.0031.src.xml.txt.blk.tok.stp.tbf.xml\n",
      "58\n",
      "55\n",
      "APW_ENG_20051127.0031.src.xml.txt.blk.tok.stp.tbf.xml\n",
      "61\n",
      "60\n",
      "APW_ENG_20051127.0031.src.xml.txt.blk.tok.stp.tbf.xml\n",
      "63\n",
      "60\n",
      "APW_ENG_20051127.0031.src.xml.txt.blk.tok.stp.tbf.xml\n",
      "67\n",
      "69\n",
      "APW_ENG_20051127.0031.src.xml.txt.blk.tok.stp.tbf.xml\n",
      "70\n",
      "69\n",
      "APW_ENG_20051127.0031.src.xml.txt.blk.tok.stp.tbf.xml\n",
      "72\n",
      "69\n"
     ]
    },
    {
     "name": "stderr",
     "output_type": "stream",
     "text": [
      " 20%|██        | 20/100 [00:02<00:12,  6.66it/s]"
     ]
    },
    {
     "name": "stdout",
     "output_type": "stream",
     "text": [
      "UNK_ENG_20060712.0002.src.xml.txt.blk.tok.stp.tbf.xml\n",
      "19\n",
      "18\n",
      "UNK_ENG_20060712.0002.src.xml.txt.blk.tok.stp.tbf.xml\n",
      "56\n",
      "55\n",
      "UNK_ENG_20060712.0002.src.xml.txt.blk.tok.stp.tbf.xml\n",
      "63\n",
      "62\n",
      "UNK_ENG_20060712.0002.src.xml.txt.blk.tok.stp.tbf.xml\n",
      "93\n",
      "92\n",
      "UNK_ENG_20060712.0002.src.xml.txt.blk.tok.stp.tbf.xml\n",
      "94\n",
      "92\n"
     ]
    },
    {
     "name": "stderr",
     "output_type": "stream",
     "text": [
      " 27%|██▋       | 27/100 [00:03<00:09,  7.70it/s]"
     ]
    },
    {
     "name": "stdout",
     "output_type": "stream",
     "text": [
      "APW_ENG_19981101.0355.src.xml.txt.blk.tok.stp.tbf.xml\n",
      "8\n",
      "7\n"
     ]
    },
    {
     "name": "stderr",
     "output_type": "stream",
     "text": [
      " 31%|███       | 31/100 [00:04<00:08,  7.85it/s]"
     ]
    },
    {
     "name": "stdout",
     "output_type": "stream",
     "text": [
      "AFP_ENG_20060213.0671.src.xml.txt.blk.tok.stp.tbf.xml\n",
      "35\n",
      "34\n"
     ]
    },
    {
     "name": "stderr",
     "output_type": "stream",
     "text": [
      " 35%|███▌      | 35/100 [00:04<00:07,  9.03it/s]"
     ]
    },
    {
     "name": "stdout",
     "output_type": "stream",
     "text": [
      "AFP_ENG_19970509.0516.src.xml.txt.blk.tok.stp.tbf.xml\n",
      "14\n",
      "12\n"
     ]
    },
    {
     "name": "stderr",
     "output_type": "stream",
     "text": [
      " 41%|████      | 41/100 [00:05<00:04, 12.05it/s]"
     ]
    },
    {
     "name": "stdout",
     "output_type": "stream",
     "text": [
      "AFP_ENG_20050426.0211.src.xml.txt.blk.tok.stp.tbf.xml\n",
      "14\n",
      "13\n",
      "AFP_ENG_20050426.0211.src.xml.txt.blk.tok.stp.tbf.xml\n",
      "15\n",
      "13\n",
      "AFP_ENG_20041224.0117.src.xml.txt.blk.tok.stp.tbf.xml\n",
      "3\n",
      "8\n",
      "AFP_ENG_20041224.0117.src.xml.txt.blk.tok.stp.tbf.xml\n",
      "7\n",
      "6\n"
     ]
    },
    {
     "name": "stderr",
     "output_type": "stream",
     "text": [
      "\r",
      " 43%|████▎     | 43/100 [00:05<00:04, 12.43it/s]"
     ]
    },
    {
     "name": "stdout",
     "output_type": "stream",
     "text": [
      "APW_ENG_20040204.0281.src.xml.txt.blk.tok.stp.tbf.xml\n",
      "22\n",
      "20\n",
      "LTW_ENG_20040319.0128.src.xml.txt.blk.tok.stp.tbf.xml\n",
      "47\n",
      "46\n",
      "LTW_ENG_20040319.0128.src.xml.txt.blk.tok.stp.tbf.xml\n",
      "60\n",
      "59\n",
      "LTW_ENG_20040319.0128.src.xml.txt.blk.tok.stp.tbf.xml\n",
      "61\n",
      "59\n",
      "LTW_ENG_20040319.0128.src.xml.txt.blk.tok.stp.tbf.xml\n",
      "88\n",
      "85\n",
      "LTW_ENG_20040319.0128.src.xml.txt.blk.tok.stp.tbf.xml\n",
      "86\n",
      "85\n"
     ]
    },
    {
     "name": "stderr",
     "output_type": "stream",
     "text": [
      "\r",
      " 45%|████▌     | 45/100 [00:05<00:06,  7.86it/s]"
     ]
    },
    {
     "name": "stdout",
     "output_type": "stream",
     "text": [
      "AFP_ENG_20041020.0093.src.xml.txt.blk.tok.stp.tbf.xml\n",
      "38\n",
      "37\n",
      "AFP_ENG_20041020.0093.src.xml.txt.blk.tok.stp.tbf.xml\n",
      "16\n",
      "37\n",
      "AFP_ENG_20040823.0382.src.xml.txt.blk.tok.stp.tbf.xml\n",
      "20\n",
      "19\n",
      "AFP_ENG_20040823.0382.src.xml.txt.blk.tok.stp.tbf.xml\n",
      "23\n",
      "19\n",
      "AFP_ENG_20040823.0382.src.xml.txt.blk.tok.stp.tbf.xml\n",
      "51\n",
      "19\n"
     ]
    },
    {
     "name": "stderr",
     "output_type": "stream",
     "text": [
      " 49%|████▉     | 49/100 [00:06<00:05,  8.79it/s]"
     ]
    },
    {
     "name": "stdout",
     "output_type": "stream",
     "text": [
      "AFP_ENG_20040315.0734.src.xml.txt.blk.tok.stp.tbf.xml\n",
      "3\n",
      "1\n",
      "AFP_ENG_20040810.0489.src.xml.txt.blk.tok.stp.tbf.xml\n",
      "19\n",
      "17\n"
     ]
    },
    {
     "name": "stderr",
     "output_type": "stream",
     "text": [
      " 53%|█████▎    | 53/100 [00:06<00:04, 10.01it/s]"
     ]
    },
    {
     "name": "stdout",
     "output_type": "stream",
     "text": [
      "AFP_ENG_20050328.0290.src.xml.txt.blk.tok.stp.tbf.xml\n",
      "38\n",
      "37\n",
      "AFP_ENG_20050104.0385.src.xml.txt.blk.tok.stp.tbf.xml\n",
      "3\n",
      "30\n",
      "AFP_ENG_20050104.0385.src.xml.txt.blk.tok.stp.tbf.xml\n",
      "4\n",
      "30\n",
      "AFP_ENG_20050104.0385.src.xml.txt.blk.tok.stp.tbf.xml\n",
      "5\n",
      "30\n"
     ]
    },
    {
     "name": "stderr",
     "output_type": "stream",
     "text": [
      " 63%|██████▎   | 63/100 [00:07<00:03,  9.94it/s]"
     ]
    },
    {
     "name": "stdout",
     "output_type": "stream",
     "text": [
      "AFP_ENG_19950125.0289.src.xml.txt.blk.tok.stp.tbf.xml\n",
      "31\n",
      "35\n",
      "AFP_ENG_19950125.0289.src.xml.txt.blk.tok.stp.tbf.xml\n",
      "33\n",
      "32\n"
     ]
    },
    {
     "name": "stderr",
     "output_type": "stream",
     "text": [
      "\r",
      " 65%|██████▌   | 65/100 [00:07<00:03, 10.39it/s]"
     ]
    },
    {
     "name": "stdout",
     "output_type": "stream",
     "text": [
      "AFP_ENG_20020303.0113.src.xml.txt.blk.tok.stp.tbf.xml\n",
      "3\n",
      "5\n",
      "AFP_ENG_20020303.0113.src.xml.txt.blk.tok.stp.tbf.xml\n",
      "21\n",
      "22\n",
      "NYT_ENG_20050312.0073.src.xml.txt.blk.tok.stp.tbf.xml\n",
      "39\n",
      "38\n",
      "NYT_ENG_20050312.0073.src.xml.txt.blk.tok.stp.tbf.xml\n",
      "40\n",
      "38\n",
      "NYT_ENG_20050312.0073.src.xml.txt.blk.tok.stp.tbf.xml\n",
      "44\n",
      "38\n",
      "NYT_ENG_20050312.0073.src.xml.txt.blk.tok.stp.tbf.xml\n",
      "70\n",
      "19\n"
     ]
    },
    {
     "name": "stderr",
     "output_type": "stream",
     "text": [
      " 68%|██████▊   | 68/100 [00:08<00:05,  5.92it/s]"
     ]
    },
    {
     "name": "stdout",
     "output_type": "stream",
     "text": [
      "APW_ENG_19990716.0669.src.xml.txt.blk.tok.stp.tbf.xml\n",
      "41\n",
      "51\n",
      "AFP_ENG_20040810.0551.src.xml.txt.blk.tok.stp.tbf.xml\n",
      "25\n",
      "24\n"
     ]
    },
    {
     "name": "stderr",
     "output_type": "stream",
     "text": [
      " 70%|███████   | 70/100 [00:08<00:04,  6.37it/s]"
     ]
    },
    {
     "name": "stdout",
     "output_type": "stream",
     "text": [
      "AFP_ENG_20041222.0453.src.xml.txt.blk.tok.stp.tbf.xml\n",
      "25\n",
      "23\n",
      "AFP_ENG_20041222.0453.src.xml.txt.blk.tok.stp.tbf.xml\n",
      "26\n",
      "23\n"
     ]
    },
    {
     "name": "stderr",
     "output_type": "stream",
     "text": [
      " 76%|███████▌  | 76/100 [00:09<00:02,  9.35it/s]"
     ]
    },
    {
     "name": "stdout",
     "output_type": "stream",
     "text": [
      "NYT_ENG_19941213.0208.src.xml.txt.blk.tok.stp.tbf.xml\n",
      "14\n",
      "13\n",
      "AFP_ENG_19950321.0171.src.xml.txt.blk.tok.stp.tbf.xml\n",
      "2\n",
      "5\n",
      "AFP_ENG_19950321.0171.src.xml.txt.blk.tok.stp.tbf.xml\n",
      "3\n",
      "5\n",
      "AFP_ENG_19950321.0171.src.xml.txt.blk.tok.stp.tbf.xml\n",
      "4\n",
      "5\n",
      "AFP_ENG_19950321.0171.src.xml.txt.blk.tok.stp.tbf.xml\n",
      "11\n",
      "66\n",
      "AFP_ENG_19950321.0171.src.xml.txt.blk.tok.stp.tbf.xml\n",
      "12\n",
      "66\n",
      "AFP_ENG_19950321.0171.src.xml.txt.blk.tok.stp.tbf.xml\n",
      "13\n",
      "65\n",
      "AFP_ENG_19950321.0171.src.xml.txt.blk.tok.stp.tbf.xml\n",
      "44\n",
      "42\n",
      "AFP_ENG_19950321.0171.src.xml.txt.blk.tok.stp.tbf.xml\n",
      "57\n",
      "56\n",
      "AFP_ENG_19950321.0171.src.xml.txt.blk.tok.stp.tbf.xml\n",
      "59\n",
      "56\n"
     ]
    },
    {
     "name": "stderr",
     "output_type": "stream",
     "text": [
      "\r",
      " 78%|███████▊  | 78/100 [00:09<00:02, 10.68it/s]"
     ]
    },
    {
     "name": "stdout",
     "output_type": "stream",
     "text": [
      "APW_ENG_20030303.0093.src.xml.txt.blk.tok.stp.tbf.xml\n",
      "36\n",
      "59\n",
      "AFP_ENG_20050805.0248.src.xml.txt.blk.tok.stp.tbf.xml\n",
      "29\n",
      "55\n",
      "AFP_ENG_20050805.0248.src.xml.txt.blk.tok.stp.tbf.xml\n",
      "43\n",
      "44\n"
     ]
    },
    {
     "name": "stderr",
     "output_type": "stream",
     "text": [
      " 83%|████████▎ | 83/100 [00:10<00:02,  8.31it/s]"
     ]
    },
    {
     "name": "stdout",
     "output_type": "stream",
     "text": [
      "XIN_ENG_20060712.0237.src.xml.txt.blk.tok.stp.tbf.xml\n",
      "28\n",
      "27\n",
      "XIN_ENG_20060712.0237.src.xml.txt.blk.tok.stp.tbf.xml\n",
      "29\n",
      "27\n",
      "XIN_ENG_20060712.0237.src.xml.txt.blk.tok.stp.tbf.xml\n",
      "30\n",
      "27\n",
      "XIN_ENG_20060712.0237.src.xml.txt.blk.tok.stp.tbf.xml\n",
      "31\n",
      "27\n",
      "XIN_ENG_20060712.0237.src.xml.txt.blk.tok.stp.tbf.xml\n",
      "32\n",
      "34\n",
      "XIN_ENG_20060712.0237.src.xml.txt.blk.tok.stp.tbf.xml\n",
      "33\n",
      "34\n",
      "XIN_ENG_20060712.0237.src.xml.txt.blk.tok.stp.tbf.xml\n",
      "37\n",
      "36\n",
      "XIN_ENG_20060712.0237.src.xml.txt.blk.tok.stp.tbf.xml\n",
      "39\n",
      "36\n",
      "XIN_ENG_20060712.0237.src.xml.txt.blk.tok.stp.tbf.xml\n",
      "41\n",
      "40\n",
      "XIN_ENG_20060712.0237.src.xml.txt.blk.tok.stp.tbf.xml\n",
      "42\n",
      "40\n",
      "XIN_ENG_20060712.0237.src.xml.txt.blk.tok.stp.tbf.xml\n",
      "43\n",
      "40\n",
      "AFP_ENG_20050117.0001.src.xml.txt.blk.tok.stp.tbf.xml\n",
      "3\n",
      "1\n",
      "AFP_ENG_20050117.0001.src.xml.txt.blk.tok.stp.tbf.xml\n",
      "8\n",
      "1\n"
     ]
    },
    {
     "name": "stderr",
     "output_type": "stream",
     "text": [
      "\r",
      " 85%|████████▌ | 85/100 [00:10<00:01,  9.37it/s]"
     ]
    },
    {
     "name": "stdout",
     "output_type": "stream",
     "text": [
      "APW_ENG_20040406.0337.src.xml.txt.blk.tok.stp.tbf.xml\n",
      "14\n",
      "89\n",
      "APW_ENG_20040406.0337.src.xml.txt.blk.tok.stp.tbf.xml\n",
      "16\n",
      "89\n",
      "APW_ENG_20040406.0337.src.xml.txt.blk.tok.stp.tbf.xml\n",
      "17\n",
      "89\n"
     ]
    },
    {
     "name": "stderr",
     "output_type": "stream",
     "text": [
      "\r",
      " 87%|████████▋ | 87/100 [00:10<00:01,  7.90it/s]"
     ]
    },
    {
     "name": "stdout",
     "output_type": "stream",
     "text": [
      "AFP_ENG_20060209.0571.src.xml.txt.blk.tok.stp.tbf.xml\n",
      "34\n",
      "55\n",
      "AFP_ENG_20060209.0571.src.xml.txt.blk.tok.stp.tbf.xml\n",
      "42\n",
      "44\n",
      "NYT_ENG_20050125.0022.src.xml.txt.blk.tok.stp.tbf.xml\n",
      "26\n",
      "28\n"
     ]
    },
    {
     "name": "stderr",
     "output_type": "stream",
     "text": [
      " 93%|█████████▎| 93/100 [00:11<00:01,  6.58it/s]"
     ]
    },
    {
     "name": "stdout",
     "output_type": "stream",
     "text": [
      "XIN_ENG_20030919.0267.src.xml.txt.blk.tok.stp.tbf.xml\n",
      "1\n",
      "12\n",
      "XIN_ENG_20030919.0267.src.xml.txt.blk.tok.stp.tbf.xml\n",
      "13\n",
      "12\n",
      "XIN_ENG_20030919.0267.src.xml.txt.blk.tok.stp.tbf.xml\n",
      "48\n",
      "47\n",
      "XIN_ENG_20030919.0267.src.xml.txt.blk.tok.stp.tbf.xml\n",
      "50\n",
      "47\n",
      "XIN_ENG_20030919.0267.src.xml.txt.blk.tok.stp.tbf.xml\n",
      "51\n",
      "47\n"
     ]
    },
    {
     "name": "stderr",
     "output_type": "stream",
     "text": [
      " 98%|█████████▊| 98/100 [00:11<00:00,  9.21it/s]"
     ]
    },
    {
     "name": "stdout",
     "output_type": "stream",
     "text": [
      "NYT_ENG_20011116.0315.src.xml.txt.blk.tok.stp.tbf.xml\n",
      "24\n",
      "21\n",
      "AFP_ENG_19950407.0079.src.xml.txt.blk.tok.stp.tbf.xml\n",
      "31\n",
      "30\n",
      "AFP_ENG_20020724.0397.src.xml.txt.blk.tok.stp.tbf.xml\n",
      "31\n",
      "30\n"
     ]
    },
    {
     "name": "stderr",
     "output_type": "stream",
     "text": [
      "100%|██████████| 100/100 [00:11<00:00,  8.35it/s]"
     ]
    },
    {
     "name": "stdout",
     "output_type": "stream",
     "text": [
      "num_PC: 2248\n",
      "num_CP: 2338\n",
      "num_CO: 2353\n",
      "num_NO: 81887\n"
     ]
    },
    {
     "name": "stderr",
     "output_type": "stream",
     "text": [
      "\n"
     ]
    }
   ],
   "source": [
    "from os import listdir\n",
    "from os.path import isfile, join\n",
    "import xml.etree.ElementTree as ET\n",
    "import tqdm\n",
    "import numpy as np\n",
    "\n",
    "num_PC = 0\n",
    "num_CP = 0\n",
    "num_CO = 0\n",
    "num_NO = 0\n",
    "\n",
    "def relation_getter(i, j, graph, num_CO, num_PC, num_CP, num_NO):\n",
    "    if graph[i][j] < 100 or graph[j][i] < 100:\n",
    "        num_CO += 1\n",
    "        return \"Coref\", num_CO, num_PC, num_CP, num_NO\n",
    "    elif graph[i][j] < 10000:\n",
    "        num_PC += 1\n",
    "        return \"SuperSub\", num_CO, num_PC, num_CP, num_NO\n",
    "    elif graph[j][i] < 10000:\n",
    "        num_CP += 1\n",
    "        return \"SubSuper\", num_CO, num_PC, num_CP, num_NO\n",
    "    else:\n",
    "        num_NO += 1\n",
    "        return \"NoRel\", num_CO, num_PC, num_CP, num_NO\n",
    "\n",
    "mypath = \"LDC2016E47_IC_Domain_Event_Annotation_From_CMU_V1.0/data/\"\n",
    "onlyfiles = [f for f in listdir(mypath) if isfile(join(mypath, f)) and f[-3:] == \"xml\"]\n",
    "print(len(onlyfiles))\n",
    "\n",
    "#fname = \"AFP_ENG_19950125.0289.src.xml.txt.blk.tok.stp.tbf.xml\"\n",
    "\n",
    "for fname in tqdm.tqdm(onlyfiles):\n",
    "    tree = ET.parse(mypath+fname)\n",
    "    root = tree.getroot()\n",
    "    Text = \"\"\n",
    "    event_dict = {}\n",
    "    eventid2num = {}\n",
    "    relation_dict = {}\n",
    "    num = 1\n",
    "    last_eventid = ''\n",
    "    relations = ['coreference', 'subevent_of', 'in_reporting', 'member_of']\n",
    "    with open('./IC_Processed/' + fname + '.tsvx', 'w', encoding='utf8') as fp:\n",
    "        for sentence in root:\n",
    "            for word in sentence:\n",
    "                if word.get('wd'):\n",
    "                    start = len(Text)\n",
    "                    Text += word.get('wd') + \" \"\n",
    "                    if word.get('eventid') and last_eventid != word.get('eventid'):\n",
    "                        if word.get('event_type'):\n",
    "                            event_type = word.get('event_type')\n",
    "                        else:\n",
    "                            event_type = 'event'\n",
    "                        eventid2num[word.get('eventid')] = num\n",
    "                        event_dict[num] = {'eventid': str(num), 'mention': word.get('wd'), 'event_type': event_type, 'char_ID': start}\n",
    "                        num += 1\n",
    "                        last_eventid = word.get('eventid')\n",
    "                    for relation in relations:\n",
    "                        if word.get(relation):\n",
    "                            if word.get(relation).find('+'):\n",
    "                                eventid_list = word.get(relation).split('+')\n",
    "                                for eventid in eventid_list:\n",
    "                                    relation_dict[(word.get('eventid'), eventid)] = relation\n",
    "                            else:\n",
    "                                relation_dict[(word.get('eventid'), word.get(relation))] = relation\n",
    "            Text += \". \"\n",
    "\n",
    "        fp.write('Text\\t' + Text + '\\n')\n",
    "        for key, value in event_dict.items():\n",
    "            fp.write('Event\\t')\n",
    "            fp.write(value['eventid'] + \"\\t\")\n",
    "            fp.write(value['mention'] + \"\\t\")\n",
    "            fp.write(value['event_type'] + \"\\t\")\n",
    "            fp.write(str(value['char_ID']) + \"\\n\")\n",
    "            \n",
    "        relation_dict_fixed = {}\n",
    "        for key, value in relation_dict.items():\n",
    "            try:\n",
    "                relation_dict_fixed[(eventid2num[key[0]], eventid2num[key[1]])] = value\n",
    "            except:\n",
    "                print(fname)\n",
    "                print(key[0])\n",
    "                print(key[1])\n",
    "            \n",
    "        g = Graph(num)\n",
    "        graph = np.ones((num, num))\n",
    "        graph = graph * 10000\n",
    "        for edge, rel in relation_dict_fixed.items():\n",
    "            if rel == \"coreference\":\n",
    "                graph[int(edge[0])][int(edge[1])] = 1\n",
    "                graph[int(edge[1])][int(edge[0])] = 1\n",
    "            if rel in ['subevent_of', 'member_of']:\n",
    "                graph[int(edge[1])][int(edge[0])] = 100\n",
    "        graph = g.transitiveClosure(graph) \n",
    "        for i in range(1, num):\n",
    "            for j in range(i+1, num):\n",
    "                if i < j:\n",
    "                    relation, num_CO, num_PC, num_CP, num_NO = relation_getter(int(event_dict[i]['eventid']), int(event_dict[j]['eventid']), graph, num_CO, num_PC, num_CP, num_NO)\n",
    "                    fp.write('Relation\\t')\n",
    "                    fp.write(event_dict[i]['eventid'] + \"\\t\")\n",
    "                    fp.write(event_dict[j]['eventid'] + \"\\t\")\n",
    "                    fp.write(relation + \"\\t\")\n",
    "                    fp.write(\"true\\t\")\n",
    "                    fp.write(event_dict[i][\"mention\"] + \"\\t\")\n",
    "                    fp.write(event_dict[j][\"mention\"] + \"\\n\")\n",
    "                \n",
    "print(\"num_PC:\", num_PC)     \n",
    "print(\"num_CP:\", num_CP)     \n",
    "print(\"num_CO:\", num_CO)     \n",
    "print(\"num_NO:\", num_NO)"
   ]
  },
  {
   "cell_type": "code",
   "execution_count": 51,
   "metadata": {},
   "outputs": [
    {
     "name": "stdout",
     "output_type": "stream",
     "text": [
      "> \u001b[0;32m<ipython-input-50-8fdc7416698e>\u001b[0m(97)\u001b[0;36m<module>\u001b[0;34m()\u001b[0m\n",
      "\u001b[0;32m     95 \u001b[0;31m            \u001b[0;32mfor\u001b[0m \u001b[0mj\u001b[0m \u001b[0;32min\u001b[0m \u001b[0mrange\u001b[0m\u001b[0;34m(\u001b[0m\u001b[0mi\u001b[0m\u001b[0;34m+\u001b[0m\u001b[0;36m1\u001b[0m\u001b[0;34m,\u001b[0m \u001b[0mnum\u001b[0m\u001b[0;34m+\u001b[0m\u001b[0;36m1\u001b[0m\u001b[0;34m)\u001b[0m\u001b[0;34m:\u001b[0m\u001b[0;34m\u001b[0m\u001b[0;34m\u001b[0m\u001b[0m\n",
      "\u001b[0m\u001b[0;32m     96 \u001b[0;31m                \u001b[0;32mif\u001b[0m \u001b[0mi\u001b[0m \u001b[0;34m<\u001b[0m \u001b[0mj\u001b[0m\u001b[0;34m:\u001b[0m\u001b[0;34m\u001b[0m\u001b[0;34m\u001b[0m\u001b[0m\n",
      "\u001b[0m\u001b[0;32m---> 97 \u001b[0;31m                    \u001b[0mrelation\u001b[0m\u001b[0;34m,\u001b[0m \u001b[0mnum_CO\u001b[0m\u001b[0;34m,\u001b[0m \u001b[0mnum_PC\u001b[0m\u001b[0;34m,\u001b[0m \u001b[0mnum_CP\u001b[0m\u001b[0;34m,\u001b[0m \u001b[0mnum_NO\u001b[0m \u001b[0;34m=\u001b[0m \u001b[0mrelation_getter\u001b[0m\u001b[0;34m(\u001b[0m\u001b[0mint\u001b[0m\u001b[0;34m(\u001b[0m\u001b[0mevent_dict\u001b[0m\u001b[0;34m[\u001b[0m\u001b[0mi\u001b[0m\u001b[0;34m]\u001b[0m\u001b[0;34m[\u001b[0m\u001b[0;34m'eventid'\u001b[0m\u001b[0;34m]\u001b[0m\u001b[0;34m)\u001b[0m\u001b[0;34m,\u001b[0m \u001b[0mint\u001b[0m\u001b[0;34m(\u001b[0m\u001b[0mevent_dict\u001b[0m\u001b[0;34m[\u001b[0m\u001b[0mj\u001b[0m\u001b[0;34m]\u001b[0m\u001b[0;34m[\u001b[0m\u001b[0;34m'eventid'\u001b[0m\u001b[0;34m]\u001b[0m\u001b[0;34m)\u001b[0m\u001b[0;34m,\u001b[0m \u001b[0mgraph\u001b[0m\u001b[0;34m,\u001b[0m \u001b[0mnum_CO\u001b[0m\u001b[0;34m,\u001b[0m \u001b[0mnum_PC\u001b[0m\u001b[0;34m,\u001b[0m \u001b[0mnum_CP\u001b[0m\u001b[0;34m,\u001b[0m \u001b[0mnum_NO\u001b[0m\u001b[0;34m)\u001b[0m\u001b[0;34m\u001b[0m\u001b[0;34m\u001b[0m\u001b[0m\n",
      "\u001b[0m\u001b[0;32m     98 \u001b[0;31m                    \u001b[0mfp\u001b[0m\u001b[0;34m.\u001b[0m\u001b[0mwrite\u001b[0m\u001b[0;34m(\u001b[0m\u001b[0;34m'Relation\\t'\u001b[0m\u001b[0;34m)\u001b[0m\u001b[0;34m\u001b[0m\u001b[0;34m\u001b[0m\u001b[0m\n",
      "\u001b[0m\u001b[0;32m     99 \u001b[0;31m                    \u001b[0mfp\u001b[0m\u001b[0;34m.\u001b[0m\u001b[0mwrite\u001b[0m\u001b[0;34m(\u001b[0m\u001b[0mevent_dict\u001b[0m\u001b[0;34m[\u001b[0m\u001b[0mi\u001b[0m\u001b[0;34m]\u001b[0m\u001b[0;34m[\u001b[0m\u001b[0;34m'eventid'\u001b[0m\u001b[0;34m]\u001b[0m \u001b[0;34m+\u001b[0m \u001b[0;34m\"\\t\"\u001b[0m\u001b[0;34m)\u001b[0m\u001b[0;34m\u001b[0m\u001b[0;34m\u001b[0m\u001b[0m\n",
      "\u001b[0m\n",
      "ipdb> event_dict[i]['eventid']\n",
      "'1'\n",
      "ipdb> event_dict[j]['eventid']\n",
      "*** KeyError: 23\n",
      "ipdb> j\n",
      "*** The 'jump' command requires a line number\n",
      "ipdb> num\n",
      "23\n",
      "ipdb> event_dict\n",
      "{1: {'eventid': '1', 'mention': 'take', 'event_type': 'event', 'char_ID': 10}, 2: {'eventid': '2', 'mention': 'attacked', 'event_type': 'event', 'char_ID': 103}, 3: {'eventid': '3', 'mention': 'took', 'event_type': 'event', 'char_ID': 160}, 4: {'eventid': '4', 'mention': 'said', 'event_type': 'report', 'char_ID': 276}, 5: {'eventid': '5', 'mention': 'set', 'event_type': 'event', 'char_ID': 308}, 6: {'eventid': '6', 'mention': 'explosion', 'event_type': 'event', 'char_ID': 335}, 7: {'eventid': '7', 'mention': 'surrounded', 'event_type': 'event', 'char_ID': 818}, 8: {'eventid': '8', 'mention': 'gunshots', 'event_type': 'event', 'char_ID': 948}, 9: {'eventid': '9', 'mention': 'pinned', 'event_type': 'event', 'char_ID': 1021}, 10: {'eventid': '10', 'mention': 'injuries', 'event_type': 'event', 'char_ID': 1086}, 11: {'eventid': '11', 'mention': 'speaking', 'event_type': 'report', 'char_ID': 1123}, 12: {'eventid': '12', 'mention': 'said', 'event_type': 'report', 'char_ID': 1149}, 13: {'eventid': '13', 'mention': 'explosion', 'event_type': 'event', 'char_ID': 1226}, 14: {'eventid': '14', 'mention': 'blamed', 'event_type': 'report', 'char_ID': 1702}, 15: {'eventid': '15', 'mention': 'violence', 'event_type': 'event', 'char_ID': 1735}, 16: {'eventid': '16', 'mention': 'killed', 'event_type': 'event', 'char_ID': 1831}, 17: {'eventid': '17', 'mention': 'violence', 'event_type': 'event', 'char_ID': 1844}, 18: {'eventid': '18', 'mention': 'captured', 'event_type': 'event', 'char_ID': 1921}, 19: {'eventid': '19', 'mention': 'attacks', 'event_type': 'event', 'char_ID': 1942}, 20: {'eventid': '20', 'mention': 'hacked', 'event_type': 'event', 'char_ID': 2061}, 21: {'eventid': '21', 'mention': 'fighting', 'event_type': 'event', 'char_ID': 2104}, 22: {'eventid': '22', 'mention': 'fighting', 'event_type': 'event', 'char_ID': 2282}}\n",
      "ipdb> quit\n"
     ]
    }
   ],
   "source": [
    "%debug"
   ]
  },
  {
   "cell_type": "code",
   "execution_count": null,
   "metadata": {},
   "outputs": [],
   "source": []
  }
 ],
 "metadata": {
  "kernelspec": {
   "display_name": "EMNLP_env",
   "language": "python",
   "name": "emnlp_env"
  },
  "language_info": {
   "codemirror_mode": {
    "name": "ipython",
    "version": 3
   },
   "file_extension": ".py",
   "mimetype": "text/x-python",
   "name": "python",
   "nbconvert_exporter": "python",
   "pygments_lexer": "ipython3",
   "version": "3.7.6"
  }
 },
 "nbformat": 4,
 "nbformat_minor": 2
}
